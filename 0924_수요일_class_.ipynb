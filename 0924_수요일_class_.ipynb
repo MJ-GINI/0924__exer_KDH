{
  "nbformat": 4,
  "nbformat_minor": 0,
  "metadata": {
    "colab": {
      "provenance": [],
      "authorship_tag": "ABX9TyOhdv4mre+qwSz4H6099g/9",
      "include_colab_link": true
    },
    "kernelspec": {
      "name": "python3",
      "display_name": "Python 3"
    },
    "language_info": {
      "name": "python"
    }
  },
  "cells": [
    {
      "cell_type": "markdown",
      "metadata": {
        "id": "view-in-github",
        "colab_type": "text"
      },
      "source": [
        "<a href=\"https://colab.research.google.com/github/dylankim98/first-repository/blob/main/0924_%EC%88%98%EC%9A%94%EC%9D%BC_class_.ipynb\" target=\"_parent\"><img src=\"https://colab.research.google.com/assets/colab-badge.svg\" alt=\"Open In Colab\"/></a>"
      ]
    },
    {
      "cell_type": "markdown",
      "source": [
        "### Account class\n",
        "- (은행이름, 예금주, 계좌번호, 잔액)\n",
        "- (은행이름)은 '모두은행'\n",
        "- 계좌번호 (000-00-000,000) 랜덤\n",
        "- 계좌 객체(instance)가 몇 번 생성됐는지 <- 객체 개수 저장 변수o\n",
        "\n",
        "### 입금 method\n",
        "- 1) 최소 1원 이상 입금\n",
        "- 2) 5번 입금시 잔고 기준 1% 이자 지급\n",
        "- 3) 입금 내역 기록\n",
        "\n",
        "### 출금 method\n",
        "- 1) 계좌 잔고 이상으로 못함.\n",
        "- 2) 출금 내역을 기록\n",
        "\n",
        "### get_account_num() method\n",
        "- 1) Account class로부터 생성된 계좌 개수를 출력하는 용도\n",
        "\n",
        "### history() method\n",
        "- 1) (입금 내역 & 출금 내역)을 출력"
      ],
      "metadata": {
        "id": "KAktCrlsl7GU"
      }
    },
    {
      "cell_type": "code",
      "execution_count": 1,
      "metadata": {
        "id": "nOY-S90jl1hz"
      },
      "outputs": [],
      "source": [
        "import random\n",
        "\n",
        "class Account:\n",
        "    bank = \"모두은행\"\n",
        "    cnt = 0\n",
        "\n",
        "    def __init__(self, name, bal=0):\n",
        "        self.name = name\n",
        "        self.bal = bal\n",
        "        self.num = f\"{random.randint(100,999)}-{random.randint(10,99)}-{random.randint(100000,999999)}\"\n",
        "        self.in_cnt = 0 # 몇 번 입금했나.\n",
        "        self.hist = []  # 입출금 기록\n",
        "\n",
        "        Account.cnt += 1  # 계좌 개수.\n",
        "\n",
        "    def dep(self, amt):\n",
        "        if amt < 1:\n",
        "            return\n",
        "        self.bal += amt\n",
        "        self.in_cnt += 1\n",
        "        self.hist.append((\"입금\", amt, self.bal))\n",
        "\n",
        "        if self.in_cnt % 5 == 0:\n",
        "            interest = int(self.bal * 0.01)\n",
        "            self.bal += interest\n",
        "            self.hist.append((\"이자지급\", interest, self.bal))\n",
        "\n",
        "\n",
        "    def wd(self, amt):\n",
        "        if amt <= self.bal:\n",
        "            self.bal -= amt\n",
        "            self.hist.append((\"출금\", amt, self.bal))\n",
        "\n",
        "        else:\n",
        "            print('잔고가 부족해요') # 굳이 append안함. 조건에 없어서.\n",
        "            self.hist.append((\"출금실패\", amt, self.bal))\n",
        "            self.active = False\n",
        "\n",
        "\n",
        "    @classmethod\n",
        "    def get_account_num(cls):\n",
        "        return cls.cnt\n",
        "\n",
        "    def history(self):\n",
        "        for i, h in enumerate(self.hist, 1):\n",
        "            print(f\"{i}회: {h[0]} 금액:{h[1]} 잔액:{h[2]}\")\n",
        "\n",
        "    def reset_account(self):\n",
        "        self.bal = 0\n",
        "        self.in_cnt = 0\n",
        "        self.hist = []\n",
        "\n"
      ]
    },
    {
      "cell_type": "code",
      "source": [
        "# a.reset_account()\n",
        "# b.reset_account()\n",
        "a = Account('a', 10000)\n",
        "b = Account('b', 10000)\n",
        ""
      ],
      "metadata": {
        "id": "RrSK-CnBl3et"
      },
      "execution_count": 3,
      "outputs": []
    },
    {
      "cell_type": "code",
      "source": [
        "\n",
        "\n",
        "print('a')\n",
        "a.dep(500)\n",
        "a.wd(200)\n",
        "a.history()\n",
        "\n",
        "\n",
        "print('-----')\n",
        "print('-----')\n",
        "print('-----')\n",
        "print('b')\n",
        "b.dep(100)\n",
        "b.wd(3000)\n",
        "b.history()\n",
        "\n",
        "Account.get_account_num()"
      ],
      "metadata": {
        "colab": {
          "base_uri": "https://localhost:8080/"
        },
        "id": "xQn5sSTyl4I1",
        "outputId": "24e7b782-d0c1-4eb7-dbb9-0ec037d176ed"
      },
      "execution_count": 7,
      "outputs": [
        {
          "output_type": "stream",
          "name": "stdout",
          "text": [
            "a\n",
            "1회: 입금 금액:500 잔액:10500\n",
            "2회: 출금 금액:200 잔액:10300\n",
            "3회: 입금 금액:500 잔액:10800\n",
            "4회: 출금 금액:200 잔액:10600\n",
            "5회: 입금 금액:500 잔액:11100\n",
            "6회: 출금 금액:200 잔액:10900\n",
            "7회: 입금 금액:500 잔액:11400\n",
            "8회: 출금 금액:200 잔액:11200\n",
            "-----\n",
            "-----\n",
            "-----\n",
            "b\n",
            "잔고가 부족해요\n",
            "1회: 입금 금액:100 잔액:10100\n",
            "2회: 출금 금액:3000 잔액:7100\n",
            "3회: 입금 금액:100 잔액:7200\n",
            "4회: 출금 금액:3000 잔액:4200\n",
            "5회: 입금 금액:100 잔액:4300\n",
            "6회: 출금 금액:3000 잔액:1300\n",
            "7회: 입금 금액:100 잔액:1400\n",
            "8회: 출금실패 금액:3000 잔액:1400\n"
          ]
        },
        {
          "output_type": "execute_result",
          "data": {
            "text/plain": [
              "2"
            ]
          },
          "metadata": {},
          "execution_count": 7
        }
      ]
    }
  ]
}